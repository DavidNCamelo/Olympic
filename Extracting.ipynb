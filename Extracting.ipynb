{
 "cells": [
  {
   "cell_type": "code",
   "execution_count": 16,
   "metadata": {},
   "outputs": [],
   "source": [
    "#Required Libraries\n",
    "import requests\n",
    "from bs4 import BeautifulSoup as bs\n",
    "import pandas as pd\n",
    "from Country_and_Medals_Lists import medals_list \n",
    "import re "
   ]
  },
  {
   "cell_type": "code",
   "execution_count": 19,
   "metadata": {},
   "outputs": [
    {
     "name": "stdout",
     "output_type": "stream",
     "text": [
      "['berlin-1936', 'garmisch-partenkirchen-1936', 'los-angeles-1932', 'lake-placid-1932', 'amsterdam-1928', 'st-moritz-1928', 'paris-1924', 'chamonix-1924', 'antwerp-1920', 'stockholm-1912', 'london-1908', 'st-louis-1904', 'paris-1900', 'athens-1896']\n",
      "Successfull saved\n"
     ]
    }
   ],
   "source": [
    "# Required Header\n",
    "header = {'User-Agent': 'Mozilla/5.0 (Windows NT 10.0; Win64; x64) AppleWebKit/537.36 (KHTML, like Gecko) Chrome/58.0.3029.110 Safari/537.36'}\n",
    "\n",
    "#Initialize dataframe\n",
    "countrylist = pd.DataFrame(columns=[\"Olympic Session\", \"Country Order\"])\n",
    "\n",
    "# Load the csv's rows\n",
    "urls = pd.read_csv(\"past_olympics.csv\")\n",
    " \n",
    "cities = urls[\"City\"].iloc[40:].tolist()\n",
    "print(cities)\n",
    "# Create the full url list\n",
    "first_part = \"https://olympics.com/en/olympic-games/\"\n",
    "last_part = \"/medals\"\n",
    "path = []\n",
    "\n",
    "for city in cities:\n",
    "    full_url = f'{first_part}{city}{last_part}'\n",
    "    path.append(full_url)\n",
    "\n",
    "# Class\n",
    "    scraper = medals_list()\n",
    "\n",
    "# Initialize extracting\n",
    "    for site in path:\n",
    "        responses = requests.get(site, headers=header)\n",
    "        soup = bs(responses.content, \"html.parser\")\n",
    "    # Call functions individually\n",
    "        names = scraper.extract_name(soup)  \n",
    "        country_codes, country_names = scraper.extract_country_list(soup)\n",
    "        scraper.extract_medals(soup)\n",
    "\n",
    "prz = scraper.prizes\n",
    "#prz\n",
    "\n",
    "prz.to_csv(\"Olympic Prizes fifth Part.csv\", index = False)\n",
    "print(\"Successfull saved\")\n",
    "    "
   ]
  },
  {
   "cell_type": "code",
   "execution_count": 20,
   "metadata": {},
   "outputs": [],
   "source": [
    "country_table = scraper.country_df\n",
    "country_table.to_csv(\"Olympic Countries fifth part.csv\", index= False)"
   ]
  },
  {
   "cell_type": "markdown",
   "metadata": {},
   "source": [
    "Olympic Games Paris 1900 and Olympic Games St. Louis 1904 didn't work with the created class for Olympic site, so was necessary research another resource, and save it in the existing document."
   ]
  },
  {
   "cell_type": "code",
   "execution_count": null,
   "metadata": {},
   "outputs": [
    {
     "name": "stdout",
     "output_type": "stream",
     "text": [
      "                      Event Name Country Code  Gold  Silver  Bronze\n",
      "0       Olympic Games Paris 1900          FRA    26      41      34\n",
      "1       Olympic Games Paris 1900          USA    19      14      14\n",
      "2       Olympic Games Paris 1900          GBR    15       6       9\n",
      "3       Olympic Games Paris 1900          ZZX     6       3       3\n",
      "4       Olympic Games Paris 1900          SUI     6       2       1\n",
      "5       Olympic Games Paris 1900          BEL     5       5       5\n",
      "6       Olympic Games Paris 1900          GER     4       2       2\n",
      "7       Olympic Games Paris 1900          ITA     2       2       0\n",
      "8       Olympic Games Paris 1900          AUS     2       0       3\n",
      "9       Olympic Games Paris 1900          DEN     1       3       2\n",
      "10      Olympic Games Paris 1900          HUN     1       2       2\n",
      "11      Olympic Games Paris 1900          CUB     1       1       0\n",
      "12      Olympic Games Paris 1900          CAN     1       0       1\n",
      "13      Olympic Games Paris 1900          ESP     1       0       0\n",
      "14      Olympic Games Paris 1900          AUT     0       3       3\n",
      "15      Olympic Games Paris 1900          NOR     0       2       3\n",
      "16      Olympic Games Paris 1900          IND     0       2       0\n",
      "17      Olympic Games Paris 1900          NED     0       1       3\n",
      "18      Olympic Games Paris 1900          BOH     0       1       1\n",
      "19      Olympic Games Paris 1900          MEX     0       0       1\n",
      "20      Olympic Games Paris 1900          SWE     0       0       1\n",
      "21  Olympic Games St. Louis 1904          USA    73      83      80\n",
      "22  Olympic Games St. Louis 1904          GER     4       4       5\n",
      "23  Olympic Games St. Louis 1904          CAN     4       1       1\n",
      "24  Olympic Games St. Louis 1904          CUB     3       0       0\n",
      "25  Olympic Games St. Louis 1904          HUN     2       1       1\n",
      "26  Olympic Games St. Louis 1904          GBR     1       1       0\n",
      "27  Olympic Games St. Louis 1904          ZZX     1       1       0\n",
      "28  Olympic Games St. Louis 1904          GRE     1       0       1\n",
      "29  Olympic Games St. Louis 1904          SUI     1       0       1\n",
      "30  Olympic Games St. Louis 1904          AUT     0       0       1\n"
     ]
    }
   ],
   "source": [
    "\n",
    "urls = [\n",
    "    (\"https://es.wikipedia.org/wiki/Anexo:Medallero_de_los_Juegos_Ol%C3%ADmpicos_de_Par%C3%ADs_1900\", \"Olympic Games Paris 1900\"),\n",
    "    (\"https://es.wikipedia.org/wiki/Anexo:Medallero_de_los_Juegos_Ol%C3%ADmpicos_de_San_Luis_1904\", \"Olympic Games St. Louis 1904\")\n",
    "]\n",
    "\n",
    "# Función para limpiar los nombres de países y extraer lo deseado\n",
    "def clean_country(country):\n",
    "    match = re.search(r'\\((.*?)\\)', country)  # Busca lo que está entre paréntesis\n",
    "    return match.group(1) if match else country  # Devuelve el texto entre paréntesis o el original\n",
    "\n",
    "# Lista para almacenar los resultados\n",
    "all_data = []\n",
    "\n",
    "for url, event in urls:\n",
    "    # Leer las tablas de la página\n",
    "    tables = pd.read_html(url)\n",
    "    \n",
    "    # Seleccionar la tabla deseada (basado en índice o contenido, aquí asumimos la primera)\n",
    "    table = tables[0]\n",
    "    \n",
    "    # Renombrar columnas\n",
    "    table.rename(columns={\"Núm.\": \"Rank\",\n",
    "                    \"País\": \"Country Code\",\n",
    "                    \"Unnamed: 2\": \"Gold\",\n",
    "                    \"Unnamed: 3\": \"Silver\",\n",
    "                    \"Unnamed: 4\": \"Bronze\"}, inplace=True)\n",
    "\n",
    "    # Limpiar la columna 'Country'\n",
    "    table['Country Code'] = table['Country Code'].apply(clean_country)\n",
    "\n",
    "    # Eliminar filas donde 'Country Code' sea 'Total'\n",
    "    table = table[table['Country Code'] != \"Total\"].copy()\n",
    "    \n",
    "    # Añadir columna sin generar advertencias\n",
    "    table['Event Name'] = event\n",
    "    \n",
    "    # Seleccionar columnas deseadas\n",
    "    table = table[[\"Event Name\", \"Country Code\", \"Gold\", \"Silver\", \"Bronze\"]]\n",
    "    \n",
    "    # Agregar los datos a la lista\n",
    "    all_data.append(table)\n",
    "\n",
    "# Combinar todos los datos en un único DataFrame\n",
    "final_df = pd.concat(all_data, ignore_index=True)\n",
    "\n",
    "# Mostrar el DataFrame final\n",
    "print(final_df)\n",
    "\n",
    "# Guardar el DataFrame en el archivo existente (añadir datos al final si existe)\n",
    "try:\n",
    "    existing_df = pd.read_csv(\"Olympic Prizes.csv\")  # Leer el archivo existente\n",
    "    combined_df = pd.concat([existing_df, final_df], ignore_index=True)  # Combinar los datos\n",
    "except FileNotFoundError:\n",
    "    combined_df = final_df  # Si no existe, usar solo el nuevo DataFrame\n",
    "\n",
    "print(len(existing_df))\n",
    "# Guardar el DataFrame combinado en el archivo\n",
    "combined_df.to_csv(\"Olympic Prizes.csv\", index=False)\n",
    "print(len(combined_df))"
   ]
  }
 ],
 "metadata": {
  "kernelspec": {
   "display_name": "Python 3",
   "language": "python",
   "name": "python3"
  },
  "language_info": {
   "codemirror_mode": {
    "name": "ipython",
    "version": 3
   },
   "file_extension": ".py",
   "mimetype": "text/x-python",
   "name": "python",
   "nbconvert_exporter": "python",
   "pygments_lexer": "ipython3",
   "version": "3.11.9"
  }
 },
 "nbformat": 4,
 "nbformat_minor": 2
}
